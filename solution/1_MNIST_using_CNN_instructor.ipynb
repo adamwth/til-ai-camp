{
 "cells": [
  {
   "cell_type": "markdown",
   "metadata": {
    "colab_type": "text",
    "id": "9i3gGaBMMTIF"
   },
   "source": [
    "# Excercise 1 - Handwritten Digits Recgonition using MNIST\n",
    "\n",
    "In this notebook, we will build a classifier model from scratch that is able to recognise handwritten digits. We will follow these steps:\n",
    "\n",
    "1. Explore the MNIST dataset\n",
    "2. Build a small convnet from scratch to solve our classification problem\n",
    "3. Evaluate training and validation accuracy.\n",
    "\n",
    "Let's get started!"
   ]
  },
  {
   "cell_type": "markdown",
   "metadata": {
    "colab_type": "text",
    "id": "B67TFpoycMZB"
   },
   "source": [
    "## Download and Explore the Dataset\n",
    "\n",
    "Let's start by downloading our MNIST dataset by calling the function `tf.keras.datasets.mnist.load_data()`."
   ]
  },
  {
   "cell_type": "code",
   "execution_count": null,
   "metadata": {
    "colab": {},
    "colab_type": "code",
    "id": "_An9VFAPcMZC"
   },
   "outputs": [],
   "source": [
    "# Import the tensorflow module and give it an alias\n",
    "import tensorflow as tf\n",
    "\n",
    "# Expand the data into train and test set, together with its label\n",
    "(x_train, y_train),(x_test, y_test) = tf.keras.datasets.mnist.load_data()"
   ]
  },
  {
   "cell_type": "markdown",
   "metadata": {
    "colab_type": "text",
    "id": "Ai0pi43TYiz5"
   },
   "source": [
    "Once loaded, let's check how many samples we have in both train and test set."
   ]
  },
  {
   "cell_type": "code",
   "execution_count": null,
   "metadata": {
    "colab": {
     "base_uri": "https://localhost:8080/",
     "height": 51
    },
    "colab_type": "code",
    "id": "8DARdSDYcMZG",
    "outputId": "106cf597-9da8-4bc1-e027-a9accd3964a8"
   },
   "outputs": [],
   "source": [
    "# How many samples do we have?\n",
    "print(\"Number of training data:\", len(x_train))\n",
    "print(\"Number of testing data:\", len(x_test))"
   ]
  },
  {
   "cell_type": "markdown",
   "metadata": {
    "colab_type": "text",
    "id": "AHn_22h1YtPb"
   },
   "source": [
    "### Viewing the first sample\n",
    "\n",
    "Looking at the first sample, you will find that each pixel is represented by a number ranging from 0 to 255. 0 represents black and 255 represents white. This means that pixel with higher value will appear white.\n",
    "\n",
    "Collectively, they will show a digit."
   ]
  },
  {
   "cell_type": "code",
   "execution_count": null,
   "metadata": {
    "colab": {
     "base_uri": "https://localhost:8080/",
     "height": 969
    },
    "colab_type": "code",
    "id": "Q5rKd7pdcMZM",
    "outputId": "9495be2d-79a6-4dbc-b4a4-d43136c52f15"
   },
   "outputs": [],
   "source": [
    "# Let's look at the first sample\n",
    "print(x_train[0])"
   ]
  },
  {
   "cell_type": "code",
   "execution_count": null,
   "metadata": {
    "colab": {
     "base_uri": "https://localhost:8080/",
     "height": 34
    },
    "colab_type": "code",
    "id": "Yruz1lNHcMZQ",
    "outputId": "c2e426de-7f02-4085-f8db-e641dce56c63"
   },
   "outputs": [],
   "source": [
    "# Shape of the first sample train data\n",
    "x_train[0].shape"
   ]
  },
  {
   "cell_type": "code",
   "execution_count": null,
   "metadata": {
    "colab": {
     "base_uri": "https://localhost:8080/",
     "height": 34
    },
    "colab_type": "code",
    "id": "TAA07ckVcMZU",
    "outputId": "710c9f97-5bd4-4b5e-dac4-4fde0aaadd37"
   },
   "outputs": [],
   "source": [
    "# Let's look at the first label\n",
    "print(y_train[0])"
   ]
  },
  {
   "cell_type": "markdown",
   "metadata": {
    "colab_type": "text",
    "id": "ZfpP6pA3cMZb"
   },
   "source": [
    "### Inspecting the training set and its labels\n",
    "\n",
    "To visualise the images and its labels in the training set, we randomly sample 14 images and display them using the code below."
   ]
  },
  {
   "cell_type": "code",
   "execution_count": null,
   "metadata": {
    "colab": {
     "base_uri": "https://localhost:8080/",
     "height": 294
    },
    "colab_type": "code",
    "id": "0jgLSoTRapwe",
    "outputId": "396593bf-ca7b-43b4-e2d7-ed612b4f8121"
   },
   "outputs": [],
   "source": [
    "import matplotlib.pyplot as plt\n",
    "import numpy as np\n",
    "\n",
    "np.random.seed()\n",
    "\n",
    "rand_14 = np.random.randint(0, x_train.shape[0],14)\n",
    "sample_digits = x_train[rand_14]\n",
    "sample_labels = y_train[rand_14]\n",
    "# code to view the images\n",
    "num_rows, num_cols = 2, 7\n",
    "f, ax = plt.subplots(num_rows, num_cols, figsize=(12,5),\n",
    "                     gridspec_kw={'wspace':0.03, 'hspace':0.01}, \n",
    "                     squeeze=True)\n",
    "\n",
    "for r in range(num_rows):\n",
    "    for c in range(num_cols):\n",
    "        image_index = r * 7 + c\n",
    "        ax[r,c].axis(\"off\")\n",
    "        ax[r,c].imshow(sample_digits[image_index], cmap='gray')\n",
    "        ax[r,c].set_title('No. %d' % sample_labels[image_index])\n",
    "plt.show()\n",
    "plt.close()"
   ]
  },
  {
   "cell_type": "markdown",
   "metadata": {
    "colab_type": "text",
    "id": "Nvck-o29ZVFA"
   },
   "source": [
    "## Data Preprocessing\n",
    "\n",
    "### Feature scaling\n",
    "\n",
    "Convert the samples from integers to floating-point numbers so that it is easier for the model to ingest."
   ]
  },
  {
   "cell_type": "code",
   "execution_count": null,
   "metadata": {
    "colab": {},
    "colab_type": "code",
    "id": "FVr4wLsStL4s"
   },
   "outputs": [],
   "source": [
    "# Normalise the data by dividing it with 255, this is part of scaling the data to the same unit dimension. \n",
    "x_train, x_test = x_train / 255.0, x_test / 255.0"
   ]
  },
  {
   "cell_type": "markdown",
   "metadata": {
    "colab_type": "text",
    "id": "FzXvR_bKuWNl"
   },
   "source": [
    "Let's take a look at the impact of scaling."
   ]
  },
  {
   "cell_type": "code",
   "execution_count": null,
   "metadata": {
    "colab": {
     "base_uri": "https://localhost:8080/",
     "height": 2397
    },
    "colab_type": "code",
    "id": "UlkgiLL5tPCt",
    "outputId": "23db4609-ff99-4f5c-8416-c272c771146f"
   },
   "outputs": [],
   "source": [
    "# Let's look again at the first sample\n",
    "print(x_train[0])"
   ]
  },
  {
   "cell_type": "markdown",
   "metadata": {
    "colab_type": "text",
    "id": "829Zobxyc15O"
   },
   "source": [
    "### Reshaping input data\n",
    "\n",
    "Before the data is usable, we need to reshape the input data from 28 x 28 into 28 x 28 x 1. "
   ]
  },
  {
   "cell_type": "code",
   "execution_count": null,
   "metadata": {
    "colab": {
     "base_uri": "https://localhost:8080/",
     "height": 51
    },
    "colab_type": "code",
    "id": "pVjw3QlCRfyn",
    "outputId": "22c076cf-9db7-4d7c-e5c6-327bd42b313c"
   },
   "outputs": [],
   "source": [
    "# Converting from (28,28) to (28,28,1)\n",
    "\n",
    "print(\"Before reshaping:\", x_train.shape)\n",
    "\n",
    "x_train = x_train.reshape(x_train.shape[0], 28, 28, 1)\n",
    "x_test = x_test.reshape(x_test.shape[0], 28, 28, 1)\n",
    "\n",
    "print(\"After reshaping:\", x_train.shape)"
   ]
  },
  {
   "cell_type": "markdown",
   "metadata": {
    "colab_type": "text",
    "id": "wnH1wR4ccMZe"
   },
   "source": [
    "## Building a Small Convnet Model\n",
    "\n",
    "The images that will go into our convnet are 32 x 32 grayscaled feature.\n",
    "\n",
    "We first pass in the feature to the convolution layer with 16 filters of size 3x3. We choose `relu` as the activation function. Next, our maxpooling layer operate on 2x2 windows, followed by flattening the 2-dimension input 1-dimension output. Lastly, we pass in the data to a fully connected layer (`Dense`) with 10 classes."
   ]
  },
  {
   "cell_type": "code",
   "execution_count": null,
   "metadata": {
    "colab": {
     "base_uri": "https://localhost:8080/",
     "height": 105
    },
    "colab_type": "code",
    "id": "uEG2xIB4cMZf",
    "outputId": "d8e74a6c-a31a-4395-c702-3f35896086dc"
   },
   "outputs": [],
   "source": [
    "import keras\n",
    "from keras.models import Sequential\n",
    "from keras.layers import Conv2D, MaxPooling2D\n",
    "from keras.layers import Flatten, Dense\n",
    "\n",
    "# Here we specify the input shape of our model \n",
    "# This should match the size of each digit along with the number of channel (1)\n",
    "input_shape = (28,28,1)\n",
    "\n",
    "# Define the number of classes\n",
    "num_classes = 10 \n",
    "\n",
    "# Initialising the model\n",
    "model = Sequential()\n",
    "\n",
    "# Convolution layer extracts 16 filters that are 3x3\n",
    "model.add(Conv2D(16, kernel_size=(3, 3),\n",
    "                 activation='relu',\n",
    "                 input_shape=input_shape))\n",
    "\n",
    "# Convolution is followed by max-pooling layer with a 2x2 window\n",
    "model.add(MaxPooling2D(pool_size=(2, 2)))\n",
    "\n",
    "# Flatter 2-dim tensor to 1-d tensor so we can add fully connected layers (dense layers)\n",
    "model.add(Flatten())\n",
    "\n",
    "# Create output layer with the number of classes we are classifying and activate using softmax\n",
    "model.add(Dense(num_classes, activation='softmax'))"
   ]
  },
  {
   "cell_type": "markdown",
   "metadata": {
    "colab_type": "text",
    "id": "TXM1wAzrgXT0"
   },
   "source": [
    "Let's summarise the model architecture:"
   ]
  },
  {
   "cell_type": "code",
   "execution_count": null,
   "metadata": {
    "colab": {
     "base_uri": "https://localhost:8080/",
     "height": 272
    },
    "colab_type": "code",
    "id": "aMd0nT92cMZj",
    "outputId": "dd814295-f88e-4708-bbe1-c5bda405fc8f"
   },
   "outputs": [],
   "source": [
    "# The number of parameters will be the number of weights that need to be adjusted when model is learning\n",
    "model.summary()"
   ]
  },
  {
   "cell_type": "markdown",
   "metadata": {
    "colab_type": "text",
    "id": "JE3P0H-OiGpF"
   },
   "source": [
    "The \"Output Shape\" column shows how the size of your feature map evolve in each layer. The convolution layers reduce the size of the feature maps due to padding, and each pooling layer half the feature map."
   ]
  },
  {
   "cell_type": "markdown",
   "metadata": {
    "colab_type": "text",
    "id": "_Yoa7vpbiNYd"
   },
   "source": [
    "Next, we will configure the specifications for model training.\n",
    "\n",
    "We train our model with `sparse_categorical_crossentropy` loss, because this is a multi-class problem and that our targers are integer encodings (e.g. 0, 1, 2).  During training, we want to monitor classification `accuracy`."
   ]
  },
  {
   "cell_type": "code",
   "execution_count": null,
   "metadata": {
    "colab": {},
    "colab_type": "code",
    "id": "NNcmg6lqcMZn"
   },
   "outputs": [],
   "source": [
    "model.compile(loss='sparse_categorical_crossentropy',\n",
    "              optimizer='adam',\n",
    "              metrics=['accuracy'])"
   ]
  },
  {
   "cell_type": "markdown",
   "metadata": {
    "colab_type": "text",
    "id": "aR9FA_R3cMZm"
   },
   "source": [
    "\n",
    "### Optimizer\n",
    "Optimizer ties together the loss function and model parameters by updating the model in response to the output of the loss function. There are multiple optimizer to choose from. See https://keras.io/optimizers/\n",
    "\n",
    "`adam`, `SGD`, `RMSprop`, `Adagrad`, `Adadelta`, `Adamax`, `Nadam`\n",
    "\n",
    "### Loss function\n",
    "A loss function (or objective function, or optimization score function). There are also a few loss functions to choose from. See https://keras.io/losses/\n",
    "\n",
    "`mean_squared_error`, `mean_absolute_error`, `categorical_crossentropy`, `binary_crossentropy`, `....`\n",
    "\n",
    "### Metric\n",
    "A metric is a function that is used to judge the performance of your model. See https://keras.io/metrics/\n",
    "\n",
    "`accuracy`, `mae`, `binary_accuracy`, `categorical_accuracy`, `sparse_categorical_accuracy`, `top_k_categorical_accuracy`, `...`\n",
    "    "
   ]
  },
  {
   "cell_type": "markdown",
   "metadata": {
    "colab_type": "text",
    "id": "wfcztNcvcMZr"
   },
   "source": [
    "## Model Training\n",
    "Let's train the model for 3 epochs and monitor its training accuracy."
   ]
  },
  {
   "cell_type": "code",
   "execution_count": null,
   "metadata": {
    "colab": {
     "base_uri": "https://localhost:8080/",
     "height": 207
    },
    "colab_type": "code",
    "id": "3aA-ASMIcMZr",
    "outputId": "a8cff5f0-4f27-4864-af7c-263571da2bf9"
   },
   "outputs": [],
   "source": [
    "model.fit(x_train, y_train, epochs=3)"
   ]
  },
  {
   "cell_type": "markdown",
   "metadata": {
    "colab_type": "text",
    "id": "yMqZghzHcMZv"
   },
   "source": [
    "## Evaluating Accuracy and Loss of the Model\n",
    "\n",
    "With a trained model, we evaluate the model performance against the truth labels of our validation set."
   ]
  },
  {
   "cell_type": "code",
   "execution_count": null,
   "metadata": {
    "colab": {
     "base_uri": "https://localhost:8080/",
     "height": 68
    },
    "colab_type": "code",
    "id": "qbustd9pcMZw",
    "outputId": "1d1f8bed-0118-4349-96bb-071c108423d0"
   },
   "outputs": [],
   "source": [
    "# Validating against the test set\n",
    "scores = model.evaluate(x_test, y_test)\n",
    "print('Test loss:', scores[0])\n",
    "print('Test accuracy:', scores[1])"
   ]
  },
  {
   "cell_type": "markdown",
   "metadata": {
    "colab_type": "text",
    "id": "f9E8q3VspMYm"
   },
   "source": [
    "Let's take a look at a random test image and its prediction."
   ]
  },
  {
   "cell_type": "code",
   "execution_count": null,
   "metadata": {
    "colab": {
     "base_uri": "https://localhost:8080/",
     "height": 286
    },
    "colab_type": "code",
    "id": "UsIetwHFkqZg",
    "outputId": "7b900ce1-c85c-42cb-a2f0-3ed4f8ccce88"
   },
   "outputs": [],
   "source": [
    "import random\n",
    "\n",
    "# Randomly choose an image from x_test\n",
    "index = random.choice(range(len(x_test)))\n",
    "\n",
    "plt.imshow(x_test[index].reshape(28, 28), cmap='gray')\n",
    "pred = model.predict(x_test[index].reshape(1, 28, 28, 1))\n",
    "print(pred.argmax())"
   ]
  },
  {
   "cell_type": "markdown",
   "metadata": {
    "colab_type": "text",
    "id": "H6xVupZxcMZ4"
   },
   "source": [
    "## Save and load the trained model\n",
    "\n",
    "Once you are done with model training, we can use the `.save()` and `.load_model()` function to save the trained  model as one `.h5` file and load it back for future use. The `.h5` file contains the model architecture, weights and optimizer state, and it allows us to resume training from exactly where we left off.\n",
    "\n",
    "Reference: https://keras.io/getting-started/faq/#how-can-i-save-a-keras-model"
   ]
  },
  {
   "cell_type": "code",
   "execution_count": null,
   "metadata": {
    "colab": {},
    "colab_type": "code",
    "id": "f-QKBSRycuFC"
   },
   "outputs": [],
   "source": [
    "# creates a HDF5 file 'my_mnist_model.h5'\n",
    "# NOTE: it will overwrite existing file, if any\n",
    "model.save('my_mnist_model.h5')"
   ]
  },
  {
   "cell_type": "markdown",
   "metadata": {
    "colab_type": "text",
    "id": "isURv9mzq_dJ"
   },
   "source": [
    "Let's delete the model and try to load it back."
   ]
  },
  {
   "cell_type": "code",
   "execution_count": null,
   "metadata": {
    "colab": {},
    "colab_type": "code",
    "id": "OT-CgOcWcMZ8"
   },
   "outputs": [],
   "source": [
    "# deleting the model\n",
    "del model "
   ]
  },
  {
   "cell_type": "code",
   "execution_count": null,
   "metadata": {
    "colab": {
     "base_uri": "https://localhost:8080/",
     "height": 51
    },
    "colab_type": "code",
    "id": "hU6acoGKrM_P",
    "outputId": "e2fca4e0-43b4-4dce-b942-9140c1b802bd"
   },
   "outputs": [],
   "source": [
    "model.evaluate(x_test, y_test) # this will throw an error"
   ]
  },
  {
   "cell_type": "code",
   "execution_count": null,
   "metadata": {
    "colab": {},
    "colab_type": "code",
    "id": "30XfmANbcMaD"
   },
   "outputs": [],
   "source": [
    "from keras.models import load_model\n",
    "\n",
    "# returns a compiled model, identical to the previous one\n",
    "model = load_model('my_mnist_model.h5')"
   ]
  },
  {
   "cell_type": "code",
   "execution_count": null,
   "metadata": {
    "colab": {
     "base_uri": "https://localhost:8080/",
     "height": 51
    },
    "colab_type": "code",
    "id": "lpP96FcqcMaF",
    "outputId": "aa10c0d2-1320-4f92-e5d1-84f00bf8160c"
   },
   "outputs": [],
   "source": [
    "model.evaluate(x_test, y_test) # this will work"
   ]
  },
  {
   "cell_type": "code",
   "execution_count": null,
   "metadata": {
    "colab": {},
    "colab_type": "code",
    "id": "8YMqcle57r6V"
   },
   "outputs": [],
   "source": []
  }
 ],
 "metadata": {
  "accelerator": "GPU",
  "colab": {
   "collapsed_sections": [],
   "name": "1_MNIST using CNN (instructor)",
   "provenance": [],
   "version": "0.3.2"
  },
  "kernelspec": {
   "display_name": "conda_tensorflow_p36",
   "language": "python",
   "name": "conda_tensorflow_p36"
  },
  "language_info": {
   "codemirror_mode": {
    "name": "ipython",
    "version": 3
   },
   "file_extension": ".py",
   "mimetype": "text/x-python",
   "name": "python",
   "nbconvert_exporter": "python",
   "pygments_lexer": "ipython3",
   "version": "3.6.5"
  }
 },
 "nbformat": 4,
 "nbformat_minor": 1
}
